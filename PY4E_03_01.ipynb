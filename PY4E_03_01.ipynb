{
 "cells": [
  {
   "cell_type": "code",
   "execution_count": null,
   "metadata": {},
   "outputs": [],
   "source": [
    "1 + 2 * 3 - 8 / 4\n"
   ]
  },
  {
   "cell_type": "code",
   "execution_count": null,
   "metadata": {},
   "outputs": [],
   "source": [
    "int(98.6)"
   ]
  },
  {
   "cell_type": "code",
   "execution_count": null,
   "metadata": {},
   "outputs": [],
   "source": [
    "name = input(\"Enter your name: \")\n",
    "\n",
    "print(\"Hello \", name)"
   ]
  },
  {
   "cell_type": "code",
   "execution_count": null,
   "metadata": {},
   "outputs": [],
   "source": [
    "# This first line is provided for you\n",
    "\n",
    "hrs = input(\"Enter Hours:\")\n",
    "rate = input(\"Hourly Rate:\")\n",
    "\n",
    "print(float(hrs) * float(rate))"
   ]
  },
  {
   "cell_type": "code",
   "execution_count": null,
   "metadata": {},
   "outputs": [],
   "source": [
    "x = 0\n",
    "if x < 2 :\n",
    "    print('Small')\n",
    "elif x < 10 :\n",
    "    print('Medium')\n",
    "else :\n",
    "    print('LARGE')\n",
    "print('All done')"
   ]
  },
  {
   "cell_type": "code",
   "execution_count": null,
   "metadata": {},
   "outputs": [],
   "source": [
    "astr = 'Hello Bob'\n",
    "istr = int(astr)\n",
    "print('First', istr)\n",
    "astr = '123'\n",
    "istr = int(astr)\n",
    "print('Second', istr)"
   ]
  },
  {
   "cell_type": "code",
   "execution_count": null,
   "metadata": {},
   "outputs": [],
   "source": [
    "astr = 'Hello Bob'\n",
    "istr = 0\n",
    "try:\n",
    "    istr = int(astr)\n",
    "except:\n",
    "    istr = -1"
   ]
  },
  {
   "cell_type": "code",
   "execution_count": null,
   "metadata": {},
   "outputs": [],
   "source": [
    "print(istr)"
   ]
  },
  {
   "cell_type": "code",
   "execution_count": null,
   "metadata": {},
   "outputs": [],
   "source": [
    "hrs = input(\"Enter Hours:\")\n",
    "rate = input(\"Hourly Rate:\")\n",
    "h = float(hrs)\n",
    "r = float(rate)\n",
    "\n",
    "if h > 40:\n",
    "    regular = 40*rate\n",
    "    timehalf = (h-40)*(rate*1.5)\n",
    "    print(regular + timehalf)\n",
    "else:\n",
    "    print(h*rate)\n",
    "    \n"
   ]
  },
  {
   "cell_type": "code",
   "execution_count": null,
   "metadata": {},
   "outputs": [],
   "source": [
    "45\n"
   ]
  },
  {
   "cell_type": "code",
   "execution_count": null,
   "metadata": {},
   "outputs": [],
   "source": [
    "hrs = input(\"Enter Hours:\")\n",
    "rate = input(\"Hourly Rate:\")\n",
    "h = float(hrs)\n",
    "r = float(rate)\n",
    "\n",
    "if h > 40:\n",
    "    regular = 40*rate\n",
    "    timehalf = (h-40)*(rate*1.5)\n",
    "    print(regular + timehalf)\n",
    "else:\n",
    "    print(h*rate)\n",
    "    \n"
   ]
  },
  {
   "cell_type": "code",
   "execution_count": 3,
   "metadata": {},
   "outputs": [
    {
     "name": "stdout",
     "output_type": "stream",
     "text": [
      "Enter Hours:40\n",
      "Hourly Rate:10.5\n",
      "420.0\n"
     ]
    }
   ],
   "source": [
    "#Inputs : hrs = 45, rate = 10.5\n",
    "hrs = input(\"Enter Hours:\")\n",
    "rate = input(\"Hourly Rate:\")\n",
    "h = float(hrs)\n",
    "r = float(rate)\n",
    "\n",
    "if h > 40:\n",
    "    regular = 40*r\n",
    "    timehalf = (h-40)*(r*1.5)\n",
    "    print(regular + timehalf)\n",
    "else:\n",
    "    print(h*r)"
   ]
  },
  {
   "cell_type": "code",
   "execution_count": null,
   "metadata": {},
   "outputs": [],
   "source": []
  }
 ],
 "metadata": {
  "kernelspec": {
   "display_name": "Python 3",
   "language": "python",
   "name": "python3"
  },
  "language_info": {
   "codemirror_mode": {
    "name": "ipython",
    "version": 3
   },
   "file_extension": ".py",
   "mimetype": "text/x-python",
   "name": "python",
   "nbconvert_exporter": "python",
   "pygments_lexer": "ipython3",
   "version": "3.7.6"
  }
 },
 "nbformat": 4,
 "nbformat_minor": 4
}
