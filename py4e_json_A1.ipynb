{
 "cells": [
  {
   "cell_type": "code",
   "execution_count": 224,
   "metadata": {},
   "outputs": [
    {
     "name": "stdout",
     "output_type": "stream",
     "text": [
      "2326\n"
     ]
    }
   ],
   "source": [
    "import urllib.request, urllib.parse, urllib.error\n",
    "import json\n",
    "import ssl\n",
    "\n",
    "# Ignore SSL certificate errors\n",
    "ctx = ssl.create_default_context()\n",
    "ctx.check_hostname = False\n",
    "ctx.verify_mode = ssl.CERT_NONE\n",
    "\n",
    "url = 'http://py4e-data.dr-chuck.net/comments_1342461.json'\n",
    "\n",
    "handle = urllib.request.urlopen(url, context=ctx) #Opens a handle but doesn't pull data down\n",
    "data = handle.read().decode() # need to decode and pulls the data down .read()\n",
    "\n",
    "info = json.loads(data)\n",
    "\n",
    "# Find the Keys and Values\n",
    "#for key in info:\n",
    "#    value = info[key]\n",
    "#    print(\"The key and value are ({}) = ({})\".format(key, value))\n",
    "\n",
    "# print(info['comments'][1]['count'])\n",
    "\n",
    "numlist = []\n",
    "\n",
    "for item in range(len(info['comments'])):\n",
    "    numlist.append(int((info['comments'][item]['count'])))\n",
    "    \n",
    "\n",
    "print(sum(numlist))"
   ]
  },
  {
   "cell_type": "code",
   "execution_count": 217,
   "metadata": {},
   "outputs": [],
   "source": [
    "test = len(info['comments'])"
   ]
  },
  {
   "cell_type": "code",
   "execution_count": 219,
   "metadata": {},
   "outputs": [
    {
     "name": "stdout",
     "output_type": "stream",
     "text": [
      "range(0, 50)\n"
     ]
    }
   ],
   "source": [
    "print(range(test))"
   ]
  },
  {
   "cell_type": "code",
   "execution_count": null,
   "metadata": {},
   "outputs": [],
   "source": []
  }
 ],
 "metadata": {
  "kernelspec": {
   "display_name": "Python 3",
   "language": "python",
   "name": "python3"
  },
  "language_info": {
   "codemirror_mode": {
    "name": "ipython",
    "version": 3
   },
   "file_extension": ".py",
   "mimetype": "text/x-python",
   "name": "python",
   "nbconvert_exporter": "python",
   "pygments_lexer": "ipython3",
   "version": "3.7.6"
  }
 },
 "nbformat": 4,
 "nbformat_minor": 4
}
