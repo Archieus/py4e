{
 "cells": [
  {
   "cell_type": "code",
   "execution_count": 14,
   "metadata": {},
   "outputs": [
    {
     "name": "stdout",
     "output_type": "stream",
     "text": [
      "Enter - http://py4e-data.dr-chuck.net/known_by_Destiny.html\n",
      "Input times to run: 7\n",
      "Input Position of Desired link: 18\n",
      "6 <a href=\"http://py4e-data.dr-chuck.net/known_by_Sahar.html\">Sahar</a>\n",
      "5 <a href=\"http://py4e-data.dr-chuck.net/known_by_Bethan.html\">Bethan</a>\n",
      "4 <a href=\"http://py4e-data.dr-chuck.net/known_by_Hashim.html\">Hashim</a>\n",
      "3 <a href=\"http://py4e-data.dr-chuck.net/known_by_Efe.html\">Efe</a>\n",
      "2 <a href=\"http://py4e-data.dr-chuck.net/known_by_Herbert.html\">Herbert</a>\n",
      "1 <a href=\"http://py4e-data.dr-chuck.net/known_by_Shania.html\">Shania</a>\n",
      "0 <a href=\"http://py4e-data.dr-chuck.net/known_by_Anselm.html\">Anselm</a>\n"
     ]
    }
   ],
   "source": [
    "# Sample problem: Start at http://py4e-data.dr-chuck.net/known_by_Fikret.html\n",
    "# Actual problem: Start at: http://py4e-data.dr-chuck.net/known_by_Destiny.html\n",
    "\n",
    "\n",
    "import urllib.request, urllib.parse, urllib.error\n",
    "from urllib.request import urlopen\n",
    "from bs4 import BeautifulSoup\n",
    "import ssl\n",
    "\n",
    "# Ignore SSL certificate errors\n",
    "ctx = ssl.create_default_context()\n",
    "ctx.check_hostname = False\n",
    "ctx.verify_mode = ssl.CERT_NONE\n",
    "\n",
    "url = input('Enter - ')\n",
    "inithtml = urllib.request.urlopen(url, context=ctx).read()\n",
    "initsoup = BeautifulSoup(inithtml, 'html.parser')\n",
    "\n",
    "count = int(input(\"Input times to run: \")) #Sample Default:4  Assign default:7 \n",
    "pos = int(input(\"Input Position of Desired link: \"))-1 #Sample Default:3 Assign Default:18\n",
    "\n",
    "while count > 0:\n",
    "    count = count - 1\n",
    "    html = urllib.request.urlopen(url, context=ctx).read()\n",
    "    soup = BeautifulSoup(html, 'html.parser')\n",
    "    tags = soup('a')\n",
    "    tag = tags[pos].get('href', None)\n",
    "    url = tag\n",
    "    name = tags[pos]\n",
    "    print(count, name)\n"
   ]
  },
  {
   "cell_type": "code",
   "execution_count": 13,
   "metadata": {},
   "outputs": [
    {
     "name": "stdout",
     "output_type": "stream",
     "text": [
      "http://py4e-data.dr-chuck.net/known_by_Anselm.html\n"
     ]
    }
   ],
   "source": [
    "print(tag)"
   ]
  },
  {
   "cell_type": "code",
   "execution_count": null,
   "metadata": {},
   "outputs": [],
   "source": []
  }
 ],
 "metadata": {
  "kernelspec": {
   "display_name": "Python 3",
   "language": "python",
   "name": "python3"
  },
  "language_info": {
   "codemirror_mode": {
    "name": "ipython",
    "version": 3
   },
   "file_extension": ".py",
   "mimetype": "text/x-python",
   "name": "python",
   "nbconvert_exporter": "python",
   "pygments_lexer": "ipython3",
   "version": "3.7.6"
  }
 },
 "nbformat": 4,
 "nbformat_minor": 4
}
