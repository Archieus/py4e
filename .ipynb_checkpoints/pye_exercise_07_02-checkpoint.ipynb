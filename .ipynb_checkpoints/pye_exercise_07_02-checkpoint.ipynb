{
 "cells": [
  {
   "cell_type": "code",
   "execution_count": 1,
   "metadata": {},
   "outputs": [
    {
     "name": "stdout",
     "output_type": "stream",
     "text": [
      "Enter file name: mbox-short.txt\n",
      "20.269400000000005\n",
      "27\n",
      "Average spam confidence:  0.7507185185185187\n"
     ]
    }
   ],
   "source": [
    "fname = input(\"Enter file name: \")\n",
    "\n",
    "try:\n",
    "    fh = open(fname)\n",
    "\n",
    "except:\n",
    "    print('File Cannot be Opened', fname)\n",
    "    quit()\n",
    "\n",
    "count = 0\n",
    "digits = 0\n",
    "\n",
    "for line in fh:\n",
    "    \n",
    "    line = line.rstrip()\n",
    "            \n",
    "    if not line.startswith(\"X-DSPAM-Confidence:\"):\n",
    "        continue\n",
    "    count = count + 1\n",
    "    digits = float(line[21:])+digits\n",
    "    avg = digits/count\n",
    "        \n",
    "    #print(line)\n",
    "    \n",
    "#print(digits)\n",
    "#print(count)\n",
    "print('Average spam confidence:', avg)\n"
   ]
  },
  {
   "cell_type": "code",
   "execution_count": null,
   "metadata": {},
   "outputs": [],
   "source": [
    "print(digits)"
   ]
  },
  {
   "cell_type": "code",
   "execution_count": null,
   "metadata": {},
   "outputs": [],
   "source": [
    "type(count)"
   ]
  },
  {
   "cell_type": "code",
   "execution_count": null,
   "metadata": {},
   "outputs": [],
   "source": []
  }
 ],
 "metadata": {
  "kernelspec": {
   "display_name": "Python 3",
   "language": "python",
   "name": "python3"
  },
  "language_info": {
   "codemirror_mode": {
    "name": "ipython",
    "version": 3
   },
   "file_extension": ".py",
   "mimetype": "text/x-python",
   "name": "python",
   "nbconvert_exporter": "python",
   "pygments_lexer": "ipython3",
   "version": "3.7.6"
  }
 },
 "nbformat": 4,
 "nbformat_minor": 4
}
