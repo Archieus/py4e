{
 "cells": [
  {
   "cell_type": "code",
   "execution_count": 1,
   "metadata": {},
   "outputs": [
    {
     "name": "stdout",
     "output_type": "stream",
     "text": [
      "Enter file name: mbox.txt\n",
      "iupui.edu 536\n",
      "umich.edu 491\n",
      "indiana.edu 178\n",
      "caret.cam.ac.uk 157\n",
      "vt.edu 110\n",
      "uct.ac.za 96\n",
      "media.berkeley.edu 56\n",
      "ufp.pt 28\n",
      "gmail.com 25\n",
      "et.gatech.edu 17\n"
     ]
    }
   ],
   "source": [
    "import sqlite3\n",
    "\n",
    "conn = sqlite3.connect('emaildb.sqlite') # will create a  file if doesn't exist.\n",
    "cur = conn.cursor()\n",
    "\n",
    "cur.execute('DROP TABLE IF EXISTS Counts') # Drops (deletesexisting table before each run.\n",
    "\n",
    "cur.execute('''\n",
    "CREATE TABLE Counts (org TEXT, count INTEGER)''')\n",
    "\n",
    "fname = input('Enter file name: ')\n",
    "if (len(fname) < 1): fname = 'mbox-short.txt'\n",
    "fh = open(fname)\n",
    "for line in fh:\n",
    "    if not line.startswith('From: '): continue\n",
    "    pieces = line.split()\n",
    "    email = pieces[1]\n",
    "    addr = email.split('@')\n",
    "    org = addr[1]\n",
    "    #This is similar to a dictionary.  The cur.execute is not really retrieving data, but confirming the validity and opening a set of records\n",
    "    cur.execute('SELECT count FROM Counts WHERE org = ? ', (org,)) # ? Place holder to avoid SQLinjection.  (email,) = a one tuple (one thingin it)\n",
    "    row = cur.fetchone() # information we are retrieving from the database\n",
    "    if row is None:\n",
    "        cur.execute('''INSERT INTO Counts (org, count)\n",
    "                VALUES (?, 1)''', (org,)) #VALUES(?,1) sets the count at 1\n",
    "    else:\n",
    "        cur.execute('UPDATE Counts SET count = count + 1 WHERE org = ?',\n",
    "                    (org,)) # In databases, always use UPDATE to increment in the event there are multiple users updating the database VALUES\n",
    "    conn.commit() # Will write to the disk writing records to the database.\n",
    "\n",
    "# https://www.sqlite.org/lang_select.html\n",
    "sqlstr = 'SELECT org, count FROM Counts ORDER BY count DESC LIMIT 10' # sorts retrieved data from database.\n",
    "\n",
    "for row in cur.execute(sqlstr):\n",
    "    print(str(row[0]), row[1])\n",
    "\n",
    "cur.close()\n"
   ]
  },
  {
   "cell_type": "code",
   "execution_count": null,
   "metadata": {},
   "outputs": [],
   "source": [
    "print(org)"
   ]
  },
  {
   "cell_type": "code",
   "execution_count": null,
   "metadata": {},
   "outputs": [],
   "source": [
    "print(pieces)"
   ]
  },
  {
   "cell_type": "code",
   "execution_count": null,
   "metadata": {},
   "outputs": [],
   "source": []
  }
 ],
 "metadata": {
  "kernelspec": {
   "display_name": "Python 3",
   "language": "python",
   "name": "python3"
  },
  "language_info": {
   "codemirror_mode": {
    "name": "ipython",
    "version": 3
   },
   "file_extension": ".py",
   "mimetype": "text/x-python",
   "name": "python",
   "nbconvert_exporter": "python",
   "pygments_lexer": "ipython3",
   "version": "3.7.6"
  }
 },
 "nbformat": 4,
 "nbformat_minor": 4
}
